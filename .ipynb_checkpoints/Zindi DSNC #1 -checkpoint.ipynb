{
 "cells": [
  {
   "cell_type": "markdown",
   "metadata": {},
   "source": [
    "# Introduction to doing Zindi Data Science Challenges in R\n",
    "## Data Science Nigeria Challenge #1: Loan Default Prediction "
   ]
  },
  {
   "cell_type": "markdown",
   "metadata": {},
   "source": [
    "### Data Science Terminology\n",
    "**Training data**: data used to build the model  \n",
    "**Test data**: data used to evaluate the model  \n",
    "**Algorithm**:  \n",
    "**Classifier**: algorithm that performs a classification task  \n",
    "**Normalisation**:  \n",
    "\n",
    "### Useful Links for Getting Started with Machine Learning in R\n",
    "[Data Camp](https://www.datacamp.com/community/tutorials/machine-learning-in-r)  \n",
    "[Machine Learning Mastery](Machine Learning Mastery)\n",
    "\n",
    "### Overview of Steps\n",
    "1. (down)load the training and test [data](https://zindi.africa/competitions/data-science-nigeria-challenge-1-loan-default-prediction/data)\n",
    "2. get to know your data: summarise and visualise\n",
    "3. prepare your data: outliers, missing values, normalisation\n",
    "4. build a model\n",
    "5. evaluate your model\n",
    "\n",
    "### Install and Load Packages"
   ]
  },
  {
   "cell_type": "code",
   "execution_count": 1,
   "metadata": {
    "collapsed": true
   },
   "outputs": [
    {
     "name": "stderr",
     "output_type": "stream",
     "text": [
      "also installing the dependencies ‘generics’, ‘rlang’, ‘recipes’\n",
      "\n",
      "Warning message in install.packages(\"caret\"):\n",
      "“installation of package ‘rlang’ had non-zero exit status”Warning message in install.packages(\"caret\"):\n",
      "“installation of package ‘recipes’ had non-zero exit status”Warning message in install.packages(\"caret\"):\n",
      "“installation of package ‘caret’ had non-zero exit status”Updating HTML index of packages in '.Library'\n",
      "Making 'packages.html' ... done\n"
     ]
    }
   ],
   "source": [
    "install.packages('caret')"
   ]
  },
  {
   "cell_type": "code",
   "execution_count": 2,
   "metadata": {
    "collapsed": true
   },
   "outputs": [
    {
     "name": "stderr",
     "output_type": "stream",
     "text": [
      "Loading required package: lattice\n",
      "Loading required package: ggplot2\n"
     ]
    }
   ],
   "source": [
    "library(caret)"
   ]
  },
  {
   "cell_type": "markdown",
   "metadata": {},
   "source": [
    "### Load Data Set"
   ]
  },
  {
   "cell_type": "code",
   "execution_count": null,
   "metadata": {},
   "outputs": [],
   "source": [
    "# define the filename\n",
    "filename <- \"data/.csv\"\n",
    "# load the CSV file from the local directory\n",
    "dataset <- read.csv(filename, header=FALSE)\n",
    "# set the column names in the dataset\n",
    "colnames(dataset) <- c(\"Sepal.Length\",\"Sepal.Width\",\"Petal.Length\",\"Petal.Width\",\"S"
   ]
  }
 ],
 "metadata": {
  "anaconda-cloud": {},
  "kernelspec": {
   "display_name": "R [conda env:R]",
   "language": "R",
   "name": "conda-env-R-r"
  },
  "language_info": {
   "codemirror_mode": "r",
   "file_extension": ".r",
   "mimetype": "text/x-r-source",
   "name": "R",
   "pygments_lexer": "r",
   "version": "3.4.3"
  }
 },
 "nbformat": 4,
 "nbformat_minor": 2
}
